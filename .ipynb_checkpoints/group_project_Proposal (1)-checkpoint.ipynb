{
 "cells": [
  {
   "cell_type": "markdown",
   "metadata": {},
   "source": [
    "# Tennis Players: Elo vs Rank\n",
    "Authors: Alan Zhang, Yovindu Don, Minghao Wang, Hefei Peng, Yuhan Liu\n",
    "### Introduction\n",
    "In the ATP (Association of Tennis Professionals), players are given points after each tournament, depending on their placement. However, the points are not dependent on the players one matched with. As a result, two players may have the same points even if they faced different levels of competition.On the contrary, the Elo system does take into account the player’s opponent. A player who defeats another player of a higher elo would receive more Elo points themselves than defeating a player of a lower caliber and has no maximum value unlike rank.\n",
    "\n",
    "The Elo system makes it easier to analyze performance but is often difficult to calculate whereas ATP rankings are easily available. Thus, the aim for our analysis is to be able to predict the Elo of a player based on the player’s ranking, as to make truer comparisons between players more accessible. We will perform exploratory data analysis and visualizing using the dataset “Player Stats for Top 500 Players” retrieved online from https://www.ultimatetennisstatistics.com/.\n",
    "\n"
   ]
  },
  {
   "cell_type": "code",
   "execution_count": 1,
   "metadata": {},
   "outputs": [
    {
     "name": "stderr",
     "output_type": "stream",
     "text": [
      "── \u001b[1mAttaching packages\u001b[22m ─────────────────────────────────────── tidyverse 1.3.0 ──\n",
      "\n",
      "\u001b[32m✔\u001b[39m \u001b[34mggplot2\u001b[39m 3.3.2     \u001b[32m✔\u001b[39m \u001b[34mpurrr  \u001b[39m 0.3.4\n",
      "\u001b[32m✔\u001b[39m \u001b[34mtibble \u001b[39m 3.0.3     \u001b[32m✔\u001b[39m \u001b[34mdplyr  \u001b[39m 1.0.2\n",
      "\u001b[32m✔\u001b[39m \u001b[34mtidyr  \u001b[39m 1.1.2     \u001b[32m✔\u001b[39m \u001b[34mstringr\u001b[39m 1.4.0\n",
      "\u001b[32m✔\u001b[39m \u001b[34mreadr  \u001b[39m 1.3.1     \u001b[32m✔\u001b[39m \u001b[34mforcats\u001b[39m 0.5.0\n",
      "\n",
      "Warning message:\n",
      "“package ‘ggplot2’ was built under R version 4.0.1”\n",
      "Warning message:\n",
      "“package ‘tibble’ was built under R version 4.0.2”\n",
      "Warning message:\n",
      "“package ‘tidyr’ was built under R version 4.0.2”\n",
      "Warning message:\n",
      "“package ‘dplyr’ was built under R version 4.0.2”\n",
      "── \u001b[1mConflicts\u001b[22m ────────────────────────────────────────── tidyverse_conflicts() ──\n",
      "\u001b[31m✖\u001b[39m \u001b[34mdplyr\u001b[39m::\u001b[32mfilter()\u001b[39m masks \u001b[34mstats\u001b[39m::filter()\n",
      "\u001b[31m✖\u001b[39m \u001b[34mdplyr\u001b[39m::\u001b[32mlag()\u001b[39m    masks \u001b[34mstats\u001b[39m::lag()\n",
      "\n",
      "Warning message:\n",
      "“package ‘tidymodels’ was built under R version 4.0.2”\n",
      "── \u001b[1mAttaching packages\u001b[22m ────────────────────────────────────── tidymodels 0.1.1 ──\n",
      "\n",
      "\u001b[32m✔\u001b[39m \u001b[34mbroom    \u001b[39m 0.7.0      \u001b[32m✔\u001b[39m \u001b[34mrecipes  \u001b[39m 0.1.13\n",
      "\u001b[32m✔\u001b[39m \u001b[34mdials    \u001b[39m 0.0.9      \u001b[32m✔\u001b[39m \u001b[34mrsample  \u001b[39m 0.0.7 \n",
      "\u001b[32m✔\u001b[39m \u001b[34minfer    \u001b[39m 0.5.4      \u001b[32m✔\u001b[39m \u001b[34mtune     \u001b[39m 0.1.1 \n",
      "\u001b[32m✔\u001b[39m \u001b[34mmodeldata\u001b[39m 0.0.2      \u001b[32m✔\u001b[39m \u001b[34mworkflows\u001b[39m 0.2.0 \n",
      "\u001b[32m✔\u001b[39m \u001b[34mparsnip  \u001b[39m 0.1.3      \u001b[32m✔\u001b[39m \u001b[34myardstick\u001b[39m 0.0.7 \n",
      "\n",
      "Warning message:\n",
      "“package ‘broom’ was built under R version 4.0.2”\n",
      "Warning message:\n",
      "“package ‘dials’ was built under R version 4.0.2”\n",
      "Warning message:\n",
      "“package ‘infer’ was built under R version 4.0.3”\n",
      "Warning message:\n",
      "“package ‘modeldata’ was built under R version 4.0.1”\n",
      "Warning message:\n",
      "“package ‘parsnip’ was built under R version 4.0.2”\n",
      "Warning message:\n",
      "“package ‘recipes’ was built under R version 4.0.1”\n",
      "Warning message:\n",
      "“package ‘tune’ was built under R version 4.0.2”\n",
      "Warning message:\n",
      "“package ‘workflows’ was built under R version 4.0.2”\n",
      "Warning message:\n",
      "“package ‘yardstick’ was built under R version 4.0.2”\n",
      "── \u001b[1mConflicts\u001b[22m ───────────────────────────────────────── tidymodels_conflicts() ──\n",
      "\u001b[31m✖\u001b[39m \u001b[34mscales\u001b[39m::\u001b[32mdiscard()\u001b[39m masks \u001b[34mpurrr\u001b[39m::discard()\n",
      "\u001b[31m✖\u001b[39m \u001b[34mdplyr\u001b[39m::\u001b[32mfilter()\u001b[39m   masks \u001b[34mstats\u001b[39m::filter()\n",
      "\u001b[31m✖\u001b[39m \u001b[34mrecipes\u001b[39m::\u001b[32mfixed()\u001b[39m  masks \u001b[34mstringr\u001b[39m::fixed()\n",
      "\u001b[31m✖\u001b[39m \u001b[34mdplyr\u001b[39m::\u001b[32mlag()\u001b[39m      masks \u001b[34mstats\u001b[39m::lag()\n",
      "\u001b[31m✖\u001b[39m \u001b[34myardstick\u001b[39m::\u001b[32mspec()\u001b[39m masks \u001b[34mreadr\u001b[39m::spec()\n",
      "\u001b[31m✖\u001b[39m \u001b[34mrecipes\u001b[39m::\u001b[32mstep()\u001b[39m   masks \u001b[34mstats\u001b[39m::step()\n",
      "\n",
      "\n",
      "Attaching package: ‘testthat’\n",
      "\n",
      "\n",
      "The following object is masked from ‘package:dplyr’:\n",
      "\n",
      "    matches\n",
      "\n",
      "\n",
      "The following object is masked from ‘package:purrr’:\n",
      "\n",
      "    is_null\n",
      "\n",
      "\n",
      "The following object is masked from ‘package:tidyr’:\n",
      "\n",
      "    matches\n",
      "\n",
      "\n",
      "Registered S3 method overwritten by 'GGally':\n",
      "  method from   \n",
      "  +.gg   ggplot2\n",
      "\n"
     ]
    }
   ],
   "source": [
    "library(tidyverse)\n",
    "library(repr)\n",
    "library(tidymodels)\n",
    "library(testthat)\n",
    "library(digest)\n",
    "library(GGally)\n",
    "library(ISLR)\n",
    "options(repr.matrix.max.rows = 6)"
   ]
  },
  {
   "cell_type": "code",
   "execution_count": 2,
   "metadata": {},
   "outputs": [
    {
     "name": "stderr",
     "output_type": "stream",
     "text": [
      "Warning message:\n",
      "“Missing column names filled in: 'X1' [1]”\n",
      "Parsed with column specification:\n",
      "cols(\n",
      "  .default = col_character(),\n",
      "  X1 = \u001b[32mcol_double()\u001b[39m,\n",
      "  `Turned Pro` = \u001b[32mcol_double()\u001b[39m,\n",
      "  Seasons = \u001b[32mcol_double()\u001b[39m,\n",
      "  Titles = \u001b[32mcol_double()\u001b[39m,\n",
      "  `Best Season` = \u001b[32mcol_double()\u001b[39m,\n",
      "  Retired = \u001b[32mcol_double()\u001b[39m,\n",
      "  Masters = \u001b[32mcol_double()\u001b[39m,\n",
      "  `Grand Slams` = \u001b[32mcol_double()\u001b[39m,\n",
      "  `Davis Cups` = \u001b[32mcol_double()\u001b[39m,\n",
      "  `Team Cups` = \u001b[32mcol_double()\u001b[39m,\n",
      "  Olympics = \u001b[32mcol_double()\u001b[39m,\n",
      "  `Weeks at No. 1` = \u001b[32mcol_double()\u001b[39m,\n",
      "  `Tour Finals` = \u001b[32mcol_double()\u001b[39m\n",
      ")\n",
      "\n",
      "See spec(...) for full column specifications.\n",
      "\n"
     ]
    },
    {
     "data": {
      "text/html": [
       "<table>\n",
       "<caption>A spec_tbl_df: 500 × 38</caption>\n",
       "<thead>\n",
       "\t<tr><th scope=col></th><th scope=col>Age</th><th scope=col>Country</th><th scope=col>Plays</th><th scope=col>Wikipedia</th><th scope=col>Current_Rank</th><th scope=col>Best_Rank</th><th scope=col>Name</th><th scope=col>Backhand</th><th scope=col>Prize_Money</th><th scope=col>⋯</th><th scope=col>Facebook</th><th scope=col>Twitter</th><th scope=col>Nicknames</th><th scope=col>Grand_Slams</th><th scope=col>Davis_Cups</th><th scope=col>Web_Site</th><th scope=col>Team_Cups</th><th scope=col>Olympics</th><th scope=col>Weeks_at_No.1</th><th scope=col>Tour_Finals</th></tr>\n",
       "\t<tr><th scope=col>&lt;dbl&gt;</th><th scope=col>&lt;chr&gt;</th><th scope=col>&lt;chr&gt;</th><th scope=col>&lt;chr&gt;</th><th scope=col>&lt;chr&gt;</th><th scope=col>&lt;chr&gt;</th><th scope=col>&lt;chr&gt;</th><th scope=col>&lt;chr&gt;</th><th scope=col>&lt;chr&gt;</th><th scope=col>&lt;chr&gt;</th><th scope=col>⋯</th><th scope=col>&lt;chr&gt;</th><th scope=col>&lt;chr&gt;</th><th scope=col>&lt;chr&gt;</th><th scope=col>&lt;dbl&gt;</th><th scope=col>&lt;dbl&gt;</th><th scope=col>&lt;chr&gt;</th><th scope=col>&lt;dbl&gt;</th><th scope=col>&lt;dbl&gt;</th><th scope=col>&lt;dbl&gt;</th><th scope=col>&lt;dbl&gt;</th></tr>\n",
       "</thead>\n",
       "<tbody>\n",
       "\t<tr><td>0</td><td>26 (25-04-1993)</td><td>Brazil        </td><td>Right-handed</td><td>Wikipedia</td><td>378 (97) </td><td>363 (04-11-2019)</td><td>Oscar Jose Gutierrez</td><td>NA        </td><td>NA          </td><td>⋯</td><td>NA</td><td>NA</td><td>NA</td><td>NA</td><td>NA</td><td>NA</td><td>NA</td><td>NA</td><td>NA</td><td>NA</td></tr>\n",
       "\t<tr><td>1</td><td>18 (22-12-2001)</td><td>United Kingdom</td><td>Left-handed </td><td>Wikipedia</td><td>326 (119)</td><td>316 (14-10-2019)</td><td>Jack Draper         </td><td>Two-handed</td><td>$59,040     </td><td>⋯</td><td>NA</td><td>NA</td><td>NA</td><td>NA</td><td>NA</td><td>NA</td><td>NA</td><td>NA</td><td>NA</td><td>NA</td></tr>\n",
       "\t<tr><td>2</td><td>32 (03-11-1987)</td><td>Slovakia      </td><td>Right-handed</td><td>Wikipedia</td><td>178 (280)</td><td>44 (14-01-2013) </td><td>Lukas Lacko         </td><td>Two-handed</td><td>US$3,261,567</td><td>⋯</td><td>NA</td><td>NA</td><td>NA</td><td>NA</td><td>NA</td><td>NA</td><td>NA</td><td>NA</td><td>NA</td><td>NA</td></tr>\n",
       "\t<tr><td>⋮</td><td>⋮</td><td>⋮</td><td>⋮</td><td>⋮</td><td>⋮</td><td>⋮</td><td>⋮</td><td>⋮</td><td>⋮</td><td>⋱</td><td>⋮</td><td>⋮</td><td>⋮</td><td>⋮</td><td>⋮</td><td>⋮</td><td>⋮</td><td>⋮</td><td>⋮</td><td>⋮</td></tr>\n",
       "\t<tr><td>497</td><td>23 (14-03-1996)</td><td>Netherlands</td><td>Left-handed</td><td>Wikipedia</td><td>495 (60)</td><td>342 (05-08-2019)</td><td>Gijs Brouwer   </td><td>NA        </td><td>NA     </td><td>⋯</td><td>NA</td><td>NA</td><td>NA</td><td>NA</td><td>NA</td><td>NA</td><td>NA</td><td>NA</td><td>NA</td><td>NA</td></tr>\n",
       "\t<tr><td>498</td><td>24 (17-05-1995)</td><td>Ukraine    </td><td>NA         </td><td>Wikipedia</td><td>419 (81)</td><td>419 (20-01-2020)</td><td>Vladyslav Orlov</td><td>NA        </td><td>NA     </td><td>⋯</td><td>NA</td><td>NA</td><td>NA</td><td>NA</td><td>NA</td><td>NA</td><td>NA</td><td>NA</td><td>NA</td><td>NA</td></tr>\n",
       "\t<tr><td>499</td><td>22 (26-03-1997)</td><td>Tunisia    </td><td>Left-handed</td><td>Wikipedia</td><td>451 (69)</td><td>408 (24-12-2018)</td><td>Aziz Dougaz    </td><td>Two-handed</td><td>$61,984</td><td>⋯</td><td>NA</td><td>NA</td><td>NA</td><td>NA</td><td>NA</td><td>NA</td><td>NA</td><td>NA</td><td>NA</td><td>NA</td></tr>\n",
       "</tbody>\n",
       "</table>\n"
      ],
      "text/latex": [
       "A spec\\_tbl\\_df: 500 × 38\n",
       "\\begin{tabular}{lllllllllllllllllllll}\n",
       "  & Age & Country & Plays & Wikipedia & Current\\_Rank & Best\\_Rank & Name & Backhand & Prize\\_Money & ⋯ & Facebook & Twitter & Nicknames & Grand\\_Slams & Davis\\_Cups & Web\\_Site & Team\\_Cups & Olympics & Weeks\\_at\\_No.1 & Tour\\_Finals\\\\\n",
       " <dbl> & <chr> & <chr> & <chr> & <chr> & <chr> & <chr> & <chr> & <chr> & <chr> & ⋯ & <chr> & <chr> & <chr> & <dbl> & <dbl> & <chr> & <dbl> & <dbl> & <dbl> & <dbl>\\\\\n",
       "\\hline\n",
       "\t 0 & 26 (25-04-1993) & Brazil         & Right-handed & Wikipedia & 378 (97)  & 363 (04-11-2019) & Oscar Jose Gutierrez & NA         & NA           & ⋯ & NA & NA & NA & NA & NA & NA & NA & NA & NA & NA\\\\\n",
       "\t 1 & 18 (22-12-2001) & United Kingdom & Left-handed  & Wikipedia & 326 (119) & 316 (14-10-2019) & Jack Draper          & Two-handed & \\$59,040      & ⋯ & NA & NA & NA & NA & NA & NA & NA & NA & NA & NA\\\\\n",
       "\t 2 & 32 (03-11-1987) & Slovakia       & Right-handed & Wikipedia & 178 (280) & 44 (14-01-2013)  & Lukas Lacko          & Two-handed & US\\$3,261,567 & ⋯ & NA & NA & NA & NA & NA & NA & NA & NA & NA & NA\\\\\n",
       "\t ⋮ & ⋮ & ⋮ & ⋮ & ⋮ & ⋮ & ⋮ & ⋮ & ⋮ & ⋮ & ⋱ & ⋮ & ⋮ & ⋮ & ⋮ & ⋮ & ⋮ & ⋮ & ⋮ & ⋮ & ⋮\\\\\n",
       "\t 497 & 23 (14-03-1996) & Netherlands & Left-handed & Wikipedia & 495 (60) & 342 (05-08-2019) & Gijs Brouwer    & NA         & NA      & ⋯ & NA & NA & NA & NA & NA & NA & NA & NA & NA & NA\\\\\n",
       "\t 498 & 24 (17-05-1995) & Ukraine     & NA          & Wikipedia & 419 (81) & 419 (20-01-2020) & Vladyslav Orlov & NA         & NA      & ⋯ & NA & NA & NA & NA & NA & NA & NA & NA & NA & NA\\\\\n",
       "\t 499 & 22 (26-03-1997) & Tunisia     & Left-handed & Wikipedia & 451 (69) & 408 (24-12-2018) & Aziz Dougaz     & Two-handed & \\$61,984 & ⋯ & NA & NA & NA & NA & NA & NA & NA & NA & NA & NA\\\\\n",
       "\\end{tabular}\n"
      ],
      "text/markdown": [
       "\n",
       "A spec_tbl_df: 500 × 38\n",
       "\n",
       "| <!----> &lt;dbl&gt; | Age &lt;chr&gt; | Country &lt;chr&gt; | Plays &lt;chr&gt; | Wikipedia &lt;chr&gt; | Current_Rank &lt;chr&gt; | Best_Rank &lt;chr&gt; | Name &lt;chr&gt; | Backhand &lt;chr&gt; | Prize_Money &lt;chr&gt; | ⋯ ⋯ | Facebook &lt;chr&gt; | Twitter &lt;chr&gt; | Nicknames &lt;chr&gt; | Grand_Slams &lt;dbl&gt; | Davis_Cups &lt;dbl&gt; | Web_Site &lt;chr&gt; | Team_Cups &lt;dbl&gt; | Olympics &lt;dbl&gt; | Weeks_at_No.1 &lt;dbl&gt; | Tour_Finals &lt;dbl&gt; |\n",
       "|---|---|---|---|---|---|---|---|---|---|---|---|---|---|---|---|---|---|---|---|---|\n",
       "| 0 | 26 (25-04-1993) | Brazil         | Right-handed | Wikipedia | 378 (97)  | 363 (04-11-2019) | Oscar Jose Gutierrez | NA         | NA           | ⋯ | NA | NA | NA | NA | NA | NA | NA | NA | NA | NA |\n",
       "| 1 | 18 (22-12-2001) | United Kingdom | Left-handed  | Wikipedia | 326 (119) | 316 (14-10-2019) | Jack Draper          | Two-handed | $59,040      | ⋯ | NA | NA | NA | NA | NA | NA | NA | NA | NA | NA |\n",
       "| 2 | 32 (03-11-1987) | Slovakia       | Right-handed | Wikipedia | 178 (280) | 44 (14-01-2013)  | Lukas Lacko          | Two-handed | US$3,261,567 | ⋯ | NA | NA | NA | NA | NA | NA | NA | NA | NA | NA |\n",
       "| ⋮ | ⋮ | ⋮ | ⋮ | ⋮ | ⋮ | ⋮ | ⋮ | ⋮ | ⋮ | ⋱ | ⋮ | ⋮ | ⋮ | ⋮ | ⋮ | ⋮ | ⋮ | ⋮ | ⋮ | ⋮ |\n",
       "| 497 | 23 (14-03-1996) | Netherlands | Left-handed | Wikipedia | 495 (60) | 342 (05-08-2019) | Gijs Brouwer    | NA         | NA      | ⋯ | NA | NA | NA | NA | NA | NA | NA | NA | NA | NA |\n",
       "| 498 | 24 (17-05-1995) | Ukraine     | NA          | Wikipedia | 419 (81) | 419 (20-01-2020) | Vladyslav Orlov | NA         | NA      | ⋯ | NA | NA | NA | NA | NA | NA | NA | NA | NA | NA |\n",
       "| 499 | 22 (26-03-1997) | Tunisia     | Left-handed | Wikipedia | 451 (69) | 408 (24-12-2018) | Aziz Dougaz     | Two-handed | $61,984 | ⋯ | NA | NA | NA | NA | NA | NA | NA | NA | NA | NA |\n",
       "\n"
      ],
      "text/plain": [
       "        Age             Country        Plays        Wikipedia Current_Rank\n",
       "1   0   26 (25-04-1993) Brazil         Right-handed Wikipedia 378 (97)    \n",
       "2   1   18 (22-12-2001) United Kingdom Left-handed  Wikipedia 326 (119)   \n",
       "3   2   32 (03-11-1987) Slovakia       Right-handed Wikipedia 178 (280)   \n",
       "⋮   ⋮   ⋮               ⋮              ⋮            ⋮         ⋮           \n",
       "498 497 23 (14-03-1996) Netherlands    Left-handed  Wikipedia 495 (60)    \n",
       "499 498 24 (17-05-1995) Ukraine        NA           Wikipedia 419 (81)    \n",
       "500 499 22 (26-03-1997) Tunisia        Left-handed  Wikipedia 451 (69)    \n",
       "    Best_Rank        Name                 Backhand   Prize_Money  ⋯ Facebook\n",
       "1   363 (04-11-2019) Oscar Jose Gutierrez NA         NA           ⋯ NA      \n",
       "2   316 (14-10-2019) Jack Draper          Two-handed $59,040      ⋯ NA      \n",
       "3   44 (14-01-2013)  Lukas Lacko          Two-handed US$3,261,567 ⋯ NA      \n",
       "⋮   ⋮                ⋮                    ⋮          ⋮            ⋱ ⋮       \n",
       "498 342 (05-08-2019) Gijs Brouwer         NA         NA           ⋯ NA      \n",
       "499 419 (20-01-2020) Vladyslav Orlov      NA         NA           ⋯ NA      \n",
       "500 408 (24-12-2018) Aziz Dougaz          Two-handed $61,984      ⋯ NA      \n",
       "    Twitter Nicknames Grand_Slams Davis_Cups Web_Site Team_Cups Olympics\n",
       "1   NA      NA        NA          NA         NA       NA        NA      \n",
       "2   NA      NA        NA          NA         NA       NA        NA      \n",
       "3   NA      NA        NA          NA         NA       NA        NA      \n",
       "⋮   ⋮       ⋮         ⋮           ⋮          ⋮        ⋮         ⋮       \n",
       "498 NA      NA        NA          NA         NA       NA        NA      \n",
       "499 NA      NA        NA          NA         NA       NA        NA      \n",
       "500 NA      NA        NA          NA         NA       NA        NA      \n",
       "    Weeks_at_No.1 Tour_Finals\n",
       "1   NA            NA         \n",
       "2   NA            NA         \n",
       "3   NA            NA         \n",
       "⋮   ⋮             ⋮          \n",
       "498 NA            NA         \n",
       "499 NA            NA         \n",
       "500 NA            NA         "
      ]
     },
     "metadata": {},
     "output_type": "display_data"
    }
   ],
   "source": [
    "tennis_players <- read_csv(\"https://drive.google.com/uc?export=download&id=1_MECmUXZuuILYeEOfonSGqodW6qVdhsS\")\n",
    "colnames(tennis_players) <- c('','Age','Country','Plays','Wikipedia','Current_Rank','Best_Rank','Name','Backhand','Prize_Money','Height','Favorite_Surface','Turned_Pro','Seasons','Active','Current_Elo_Rank','Best_Elo_Rank','Peak_Elo_Rating','Last_Appearance','Titles','GOAT_Rank','Best_Season','Retired','Masters','Birthplace','Residence','Weight','Coach','Facebook','Twitter','Nicknames','Grand_Slams','Davis_Cups','Web_Site','Team_Cups','Olympics','Weeks_at_No.1','Tour_Finals')\n",
    "tennis_players"
   ]
  },
  {
   "cell_type": "markdown",
   "metadata": {},
   "source": [
    "### Data Analysis\n",
    "We will take rank and current elo columns for our data analysis. Current elo is the response variable while current rank is the explanatory variable. Empty rows wil be filtered to make data tidy and it will then be split into a training set (75 percent) and a testing set (25 percent). On top of that, we will standardize our dataset before taking further actions which include training our classifiers. In order to find the best K, we will be using the optimal K value within our nearest_neighbor function and K-NN regression will be used instead of classification as they are numerical values. We will be looking for the lowest RMSPE value (closest to 0) to help determine the best k value.Finally, predict and visualize the result using a scatter plot.\n"
   ]
  },
  {
   "cell_type": "code",
   "execution_count": 21,
   "metadata": {},
   "outputs": [
    {
     "data": {
      "text/html": [
       "<table>\n",
       "<caption>A data.frame: 184 × 2</caption>\n",
       "<thead>\n",
       "\t<tr><th scope=col>Elo</th><th scope=col>Rank</th></tr>\n",
       "\t<tr><th scope=col>&lt;dbl&gt;</th><th scope=col>&lt;dbl&gt;</th></tr>\n",
       "</thead>\n",
       "<tbody>\n",
       "\t<tr><td>1764</td><td>178</td></tr>\n",
       "\t<tr><td>1826</td><td>183</td></tr>\n",
       "\t<tr><td>1983</td><td> 31</td></tr>\n",
       "\t<tr><td>⋮</td><td>⋮</td></tr>\n",
       "\t<tr><td>1764</td><td>292</td></tr>\n",
       "\t<tr><td>1679</td><td>324</td></tr>\n",
       "\t<tr><td>2188</td><td>  5</td></tr>\n",
       "</tbody>\n",
       "</table>\n"
      ],
      "text/latex": [
       "A data.frame: 184 × 2\n",
       "\\begin{tabular}{ll}\n",
       " Elo & Rank\\\\\n",
       " <dbl> & <dbl>\\\\\n",
       "\\hline\n",
       "\t 1764 & 178\\\\\n",
       "\t 1826 & 183\\\\\n",
       "\t 1983 &  31\\\\\n",
       "\t ⋮ & ⋮\\\\\n",
       "\t 1764 & 292\\\\\n",
       "\t 1679 & 324\\\\\n",
       "\t 2188 &   5\\\\\n",
       "\\end{tabular}\n"
      ],
      "text/markdown": [
       "\n",
       "A data.frame: 184 × 2\n",
       "\n",
       "| Elo &lt;dbl&gt; | Rank &lt;dbl&gt; |\n",
       "|---|---|\n",
       "| 1764 | 178 |\n",
       "| 1826 | 183 |\n",
       "| 1983 |  31 |\n",
       "| ⋮ | ⋮ |\n",
       "| 1764 | 292 |\n",
       "| 1679 | 324 |\n",
       "| 2188 |   5 |\n",
       "\n"
      ],
      "text/plain": [
       "    Elo  Rank\n",
       "1   1764 178 \n",
       "2   1826 183 \n",
       "3   1983  31 \n",
       "⋮   ⋮    ⋮   \n",
       "182 1764 292 \n",
       "183 1679 324 \n",
       "184 2188   5 "
      ]
     },
     "metadata": {},
     "output_type": "display_data"
    }
   ],
   "source": [
    "elo_rank_performance <- tennis_players %>%\n",
    "    select(Current_Elo_Rank, Current_Rank) %>%\n",
    "    filter(!is.na(Current_Rank)) %>%\n",
    "    filter(!is.na(Current_Elo_Rank)) %>%\n",
    "    separate(col = Current_Elo_Rank, into = c(\"Elo_Rank\", \"Elo\"), sep = \" \") %>%\n",
    "    separate(col = Current_Rank, into = c(\"Rank\", \"Rank_Date\"), sep = \" \") %>%\n",
    "    select(Elo, Rank)\n",
    "\n",
    "elo_rank_performance$Elo <- substr(elo_rank_performance$Elo, 2, 5)\n",
    "\n",
    "elo_rank_performance <- elo_rank_performance %>%\n",
    "    transform(Elo = as.numeric(Elo)) %>%\n",
    "    transform(Rank = as.numeric(Rank))\n",
    "\n",
    "elo_rank_performance"
   ]
  },
  {
   "cell_type": "code",
   "execution_count": 27,
   "metadata": {},
   "outputs": [],
   "source": [
    "set.seed(184)\n",
    "elo_rank_split <- initial_split(elo_rank_performance, prop = 0.75, strata = Elo)\n",
    "elo_rank_training <- training(elo_rank_split)\n",
    "elo_rank_testing <- testing(elo_rank_split)"
   ]
  },
  {
   "cell_type": "code",
   "execution_count": 39,
   "metadata": {},
   "outputs": [
    {
     "name": "stdout",
     "output_type": "stream",
     "text": [
      "Rows: 140\n",
      "Columns: 2\n",
      "$ Elo  \u001b[3m\u001b[90m<dbl>\u001b[39m\u001b[23m 1764, 1983, 1602, 1926, 2204, 2211, 1919, 1993, 1705, 2004, 1773…\n",
      "$ Rank \u001b[3m\u001b[90m<dbl>\u001b[39m\u001b[23m 178, 31, 417, 22, 4, 121, 34, 45, 123, 12, 84, 43, 161, 304, 41,…\n"
     ]
    },
    {
     "data": {
      "text/html": [
       "<table>\n",
       "<caption>A data.frame: 140 × 2</caption>\n",
       "<thead>\n",
       "\t<tr><th></th><th scope=col>Elo</th><th scope=col>Rank</th></tr>\n",
       "\t<tr><th></th><th scope=col>&lt;dbl&gt;</th><th scope=col>&lt;dbl&gt;</th></tr>\n",
       "</thead>\n",
       "<tbody>\n",
       "\t<tr><th scope=row>1</th><td>1764</td><td>178</td></tr>\n",
       "\t<tr><th scope=row>3</th><td>1983</td><td> 31</td></tr>\n",
       "\t<tr><th scope=row>4</th><td>1602</td><td>417</td></tr>\n",
       "\t<tr><th scope=row>⋮</th><td>⋮</td><td>⋮</td></tr>\n",
       "\t<tr><th scope=row>180</th><td>1952</td><td> 71</td></tr>\n",
       "\t<tr><th scope=row>182</th><td>1764</td><td>292</td></tr>\n",
       "\t<tr><th scope=row>183</th><td>1679</td><td>324</td></tr>\n",
       "</tbody>\n",
       "</table>\n"
      ],
      "text/latex": [
       "A data.frame: 140 × 2\n",
       "\\begin{tabular}{r|ll}\n",
       "  & Elo & Rank\\\\\n",
       "  & <dbl> & <dbl>\\\\\n",
       "\\hline\n",
       "\t1 & 1764 & 178\\\\\n",
       "\t3 & 1983 &  31\\\\\n",
       "\t4 & 1602 & 417\\\\\n",
       "\t⋮ & ⋮ & ⋮\\\\\n",
       "\t180 & 1952 &  71\\\\\n",
       "\t182 & 1764 & 292\\\\\n",
       "\t183 & 1679 & 324\\\\\n",
       "\\end{tabular}\n"
      ],
      "text/markdown": [
       "\n",
       "A data.frame: 140 × 2\n",
       "\n",
       "| <!--/--> | Elo &lt;dbl&gt; | Rank &lt;dbl&gt; |\n",
       "|---|---|---|\n",
       "| 1 | 1764 | 178 |\n",
       "| 3 | 1983 |  31 |\n",
       "| 4 | 1602 | 417 |\n",
       "| ⋮ | ⋮ | ⋮ |\n",
       "| 180 | 1952 |  71 |\n",
       "| 182 | 1764 | 292 |\n",
       "| 183 | 1679 | 324 |\n",
       "\n"
      ],
      "text/plain": [
       "    Elo  Rank\n",
       "1   1764 178 \n",
       "3   1983  31 \n",
       "4   1602 417 \n",
       "⋮   ⋮    ⋮   \n",
       "180 1952  71 \n",
       "182 1764 292 \n",
       "183 1679 324 "
      ]
     },
     "metadata": {},
     "output_type": "display_data"
    }
   ],
   "source": [
    "glimpse(elo_rank_training)\n",
    "elo_rank_training"
   ]
  },
  {
   "cell_type": "markdown",
   "metadata": {},
   "source": [
    "After obtaining what we wanted, we will standardize our training data before taking any futher actions."
   ]
  },
  {
   "cell_type": "code",
   "execution_count": 40,
   "metadata": {},
   "outputs": [
    {
     "data": {
      "text/plain": [
       "Data Recipe\n",
       "\n",
       "Inputs:\n",
       "\n",
       "      role #variables\n",
       "   outcome          1\n",
       " predictor          1\n",
       "\n",
       "Operations:\n",
       "\n",
       "Scaling for all_predictors()\n",
       "Centering for all_predictors()"
      ]
     },
     "metadata": {},
     "output_type": "display_data"
    }
   ],
   "source": [
    "elo_rank_recipe <- recipe(Elo ~ Rank, data = elo_rank_training) %>%\n",
    "    step_scale(all_predictors()) %>%\n",
    "    step_center(all_predictors())\n",
    "elo_rank_recipe"
   ]
  },
  {
   "cell_type": "code",
   "execution_count": 41,
   "metadata": {},
   "outputs": [],
   "source": [
    "elo_rank_knn_spec <- nearest_neighbor(weight_func = \"rectangular\", neighbors = tune()) %>%\n",
    "    set_engine(\"kknn\") %>%\n",
    "    set_mode(\"regression\")\n",
    "\n",
    "elo_rank_vfold <- vfold_cv(elo_rank_training, v = 5, strata = Elo)"
   ]
  },
  {
   "cell_type": "markdown",
   "metadata": {},
   "source": [
    "In [16], we created a recipe for preprocessing our data as well as standardized our training data. Here we used tune() and cross-validation to help choose the optimal K. We created a 5-fold cross validation object."
   ]
  },
  {
   "cell_type": "code",
   "execution_count": 42,
   "metadata": {},
   "outputs": [
    {
     "data": {
      "text/html": [
       "<table>\n",
       "<caption>A tibble: 1 × 7</caption>\n",
       "<thead>\n",
       "\t<tr><th scope=col>neighbors</th><th scope=col>.metric</th><th scope=col>.estimator</th><th scope=col>mean</th><th scope=col>n</th><th scope=col>std_err</th><th scope=col>.config</th></tr>\n",
       "\t<tr><th scope=col>&lt;int&gt;</th><th scope=col>&lt;chr&gt;</th><th scope=col>&lt;chr&gt;</th><th scope=col>&lt;dbl&gt;</th><th scope=col>&lt;int&gt;</th><th scope=col>&lt;dbl&gt;</th><th scope=col>&lt;chr&gt;</th></tr>\n",
       "</thead>\n",
       "<tbody>\n",
       "\t<tr><td>8</td><td>rmse</td><td>standard</td><td>85.68992</td><td>5</td><td>9.532755</td><td>Model08</td></tr>\n",
       "</tbody>\n",
       "</table>\n"
      ],
      "text/latex": [
       "A tibble: 1 × 7\n",
       "\\begin{tabular}{lllllll}\n",
       " neighbors & .metric & .estimator & mean & n & std\\_err & .config\\\\\n",
       " <int> & <chr> & <chr> & <dbl> & <int> & <dbl> & <chr>\\\\\n",
       "\\hline\n",
       "\t 8 & rmse & standard & 85.68992 & 5 & 9.532755 & Model08\\\\\n",
       "\\end{tabular}\n"
      ],
      "text/markdown": [
       "\n",
       "A tibble: 1 × 7\n",
       "\n",
       "| neighbors &lt;int&gt; | .metric &lt;chr&gt; | .estimator &lt;chr&gt; | mean &lt;dbl&gt; | n &lt;int&gt; | std_err &lt;dbl&gt; | .config &lt;chr&gt; |\n",
       "|---|---|---|---|---|---|---|\n",
       "| 8 | rmse | standard | 85.68992 | 5 | 9.532755 | Model08 |\n",
       "\n"
      ],
      "text/plain": [
       "  neighbors .metric .estimator mean     n std_err  .config\n",
       "1 8         rmse    standard   85.68992 5 9.532755 Model08"
      ]
     },
     "metadata": {},
     "output_type": "display_data"
    }
   ],
   "source": [
    "gridvals <- tibble(neighbors = seq(1,20))\n",
    "\n",
    "elo_rank_results <- workflow() %>%\n",
    "    add_recipe(elo_rank_recipe) %>%\n",
    "    add_model(elo_rank_knn_spec) %>%\n",
    "    tune_grid(elo_rank_vfold, grid = gridvals) %>%\n",
    "    collect_metrics() %>%\n",
    "    filter(.metric == \"rmse\") %>%\n",
    "    filter(mean == min(mean))\n",
    "\n",
    "\n",
    "elo_rank_results"
   ]
  },
  {
   "cell_type": "markdown",
   "metadata": {},
   "source": [
    "We now know that our best optimal K = 5. \n",
    "Hence, we will be using K = 5."
   ]
  },
  {
   "cell_type": "code",
   "execution_count": null,
   "metadata": {},
   "outputs": [],
   "source": [
    "elo_rank_5_spec <- nearest_neighbor(weight_func = \"rectangular\", neighbors = 5) %>%\n",
    "    set_engine(\"kknn\") %>%\n",
    "    set_mode(\"regression\")\n",
    "\n",
    "elo_rank_fit <- workflow() %>%\n",
    "    add_recipe(elo_rank_recipe) %>%\n",
    "    add_model(elo_rank_5_spec) %>%\n",
    "    fit(data = elo_rank_training)\n",
    "\n",
    "elo_rank_sum <- elo_rank_fit %>%\n",
    "    predict(elo_rank_testing) %>%\n",
    "    bind_cols(elo_rank_testing) %>%\n",
    "    metrics(truth = Elo, estimate = .pred) %>%\n",
    "    filter(.metric == \"rmse\")\n",
    "\n",
    "elo_rank_sum "
   ]
  },
  {
   "cell_type": "markdown",
   "metadata": {},
   "source": [
    "By applying K = 5, we have our .estimate = 85.74153.\n",
    "This is saying that we expect the error in our prediction to be roughly 85.74153."
   ]
  },
  {
   "cell_type": "markdown",
   "metadata": {},
   "source": [
    "### Expected Outcomes and Significance\n",
    "Our prediction is that there is generally a positive association between an athlete’s rank and elo rating. This could be due to the simple fact that ranks reflect the actual abilities of a player during competitions. The higher ranks you get, the better you play in competitions, and the higher the capacities you have. The visualization suggests that each player’s rank increases along with their elos. Therefore, when predicting the skill levels of players, players are expected to have the higher ranks. \n",
    "\n",
    "The significance of our finding is that, our regression model helps interested groups to estimate the elo of a player using rank as a predictor. Clubs could sign contracts with players with higher Elo because they generally have higher skill levels. Accordingly, as winners gain more popularity among audiences, companies could refer to rank as a predictor of players’ capacities and reach out for more business cooperation with the ones with higher ranks. And for tennis bets, we can advise our clients to bid on players who have higher ranks in previous matches. \n"
   ]
  },
  {
   "cell_type": "code",
   "execution_count": 7,
   "metadata": {},
   "outputs": [
    {
     "data": {
      "image/png": "[encoded data removed]",
      "text/plain": [
       "plot without title"
      ]
     },
     "metadata": {
      "image/png": {
       "height": 600,
       "width": 600
      }
     },
     "output_type": "display_data"
    }
   ],
   "source": [
    "options(repr.plot.width = 10, repr.plot.height = 10)\n",
    "elo_rank_training_plot <- ggplot(elo_rank_training, aes(x = Rank, y = Elo)) +\n",
    "    geom_point(alpha = 0.5) +\n",
    "    labs(x = \"Rank\", y = \"Elo\") +\n",
    "    ggtitle(\"Tennis Player Age vs Elo - Training\") +\n",
    "    theme(text = element_text(size = 20))\n",
    "elo_rank_training_plot"
   ]
  }
 ],
 "metadata": {
  "kernelspec": {
   "display_name": "R",
   "language": "R",
   "name": "ir"
  },
  "language_info": {
   "codemirror_mode": "r",
   "file_extension": ".r",
   "mimetype": "text/x-r-source",
   "name": "R",
   "pygments_lexer": "r",
   "version": "4.0.0"
  }
 },
 "nbformat": 4,
 "nbformat_minor": 4
}
